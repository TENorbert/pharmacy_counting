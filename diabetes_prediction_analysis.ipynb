{
 "cells": [
  {
   "cell_type": "markdown",
   "metadata": {},
   "source": [
    "Use Diabetes Data in Maryland to predict the Number of deaths due to diabetes in a given year.\n",
    "Diabetes Health Data can be found here  https://www.healthdata.gov/ \n",
    "We are using \"Number of Diabetes Deaths among Maryland Residents, 1920-2016\" dataset.\n",
    "Learn more about Diabetes here: http://www.who.int/en/news-room/fact-sheets/detail/diabetes\n",
    "- Project 1: - The Goal is to be abole to able to understand concepts like data exploration, data cleansing, feature selection, model selection, model evaluation and apply them in a practical way.\n",
    "- Project 2: -And also to use the new healthcareai library for  health Data Science projects!"
   ]
  },
  {
   "cell_type": "code",
   "execution_count": 123,
   "metadata": {},
   "outputs": [],
   "source": [
    "import numpy as np\n",
    "import pandas as pd\n",
    "import matplotlib\n",
    "%matplotlib inline\n",
    "import matplotlib.pyplot as plt\n",
    "import healthcareai\n",
    "import seaborn as sn\n",
    "#import pyplot\n",
    "#import pygal\n",
    "import os, re, sys"
   ]
  },
  {
   "cell_type": "code",
   "execution_count": 124,
   "metadata": {},
   "outputs": [
    {
     "name": "stdout",
     "output_type": "stream",
     "text": [
      "Numpy Version: = 1.14.5\n",
      "Pandas Version: = 0.23.0\n",
      "Matplotlib Version: = 2.2.2\n",
      "Seaborn Version: = 0.8.1\n"
     ]
    }
   ],
   "source": [
    "print(\"Numpy Version: = %s\" %np.__version__)\n",
    "print(\"Pandas Version: = %s\" %pd.__version__)\n",
    "print(\"Matplotlib Version: = %s\" %matplotlib.__version__)\n",
    "print(\"Seaborn Version: = %s\" %sn.__version__)"
   ]
  },
  {
   "cell_type": "markdown",
   "metadata": {},
   "source": [
    "Project 1: Using healthcareai, we train our model on dataset and then \n",
    "use that to predict the number of diabetes deaths we expect in 2017 and 2018."
   ]
  },
  {
   "cell_type": "code",
   "execution_count": 125,
   "metadata": {},
   "outputs": [
    {
     "data": {
      "text/plain": [
       "Index(['Year', 'Deaths'], dtype='object')"
      ]
     },
     "execution_count": 125,
     "metadata": {},
     "output_type": "execute_result"
    }
   ],
   "source": [
    "df = pd.read_csv(\"../datasets/Number_of_Diabetes_Deaths_among_Maryland_Residents__1920-2016.csv\")\n",
    "df.columns\n",
    "df.rename(columns={'Number of Diabetes Deaths':'Deaths'}, inplace=True)\n",
    "df.columns"
   ]
  },
  {
   "cell_type": "code",
   "execution_count": 126,
   "metadata": {},
   "outputs": [
    {
     "data": {
      "text/plain": [
       "array([[<matplotlib.axes._subplots.AxesSubplot object at 0x7faf9b5e2940>]],\n",
       "      dtype=object)"
      ]
     },
     "execution_count": 126,
     "metadata": {},
     "output_type": "execute_result"
    },
    {
     "data": {
      "image/png": "[encoded data removed]",
      "text/plain": [
       "<Figure size 432x288 with 1 Axes>"
      ]
     },
     "metadata": {},
     "output_type": "display_data"
    }
   ],
   "source": [
    "# Checkout the data\n",
    "df.hist(\"Deaths\")"
   ]
  },
  {
   "cell_type": "code",
   "execution_count": 127,
   "metadata": {},
   "outputs": [
    {
     "data": {
      "text/plain": [
       "<matplotlib.axes._subplots.AxesSubplot at 0x7faf9d421978>"
      ]
     },
     "execution_count": 127,
     "metadata": {},
     "output_type": "execute_result"
    },
    {
     "data": {
      "image/png": "[encoded data removed]",
      "text/plain": [
       "<Figure size 432x288 with 2 Axes>"
      ]
     },
     "metadata": {},
     "output_type": "display_data"
    }
   ],
   "source": [
    "# Any Correlation?:\n",
    "cor = df.corr()\n",
    "sn.heatmap(cor, square=True)"
   ]
  },
  {
   "cell_type": "markdown",
   "metadata": {},
   "source": [
    "clearly No correlation between columns whatsoever. So these are linearly independent colums good for prediction analysis."
   ]
  },
  {
   "cell_type": "markdown",
   "metadata": {},
   "source": [
    "Lets do some cleaning by addressing the followings issues:\n",
    "- 1)Duplicate or irrelevant observations.\n",
    "- 2)Bad labeling of data, same category occurring multiple times.\n",
    "- 3)Missing or null data points.\n",
    "- 4) Unexpected outliers."
   ]
  },
  {
   "cell_type": "code",
   "execution_count": 128,
   "metadata": {},
   "outputs": [
    {
     "data": {
      "text/plain": [
       "Year      0\n",
       "Deaths    0\n",
       "dtype: int64"
      ]
     },
     "execution_count": 128,
     "metadata": {},
     "output_type": "execute_result"
    }
   ],
   "source": [
    "# any Null or Missing data\n",
    "df.isnull().sum()\n",
    "df.isna().sum()"
   ]
  },
  {
   "cell_type": "code",
   "execution_count": 129,
   "metadata": {},
   "outputs": [
    {
     "name": "stdout",
     "output_type": "stream",
     "text": [
      "Zero Year count = 0\n"
     ]
    }
   ],
   "source": [
    "# No Null or Missing Data so we are good\n",
    "# so lets check for inconsistent data e.g year = 0\n",
    "print(\"Zero Year count = {}\".format(df[df.Year == 0 ].shape[0]))\n",
    "\n",
    "# Now we prepare the data for prediction\n",
    "X_data = df.drop('Deaths', axis=1)\n",
    "Y_data = df[['Deaths']]"
   ]
  },
  {
   "cell_type": "code",
   "execution_count": 130,
   "metadata": {},
   "outputs": [],
   "source": [
    "# Import models from Sklearn\n",
    "#clustering Models\n",
    "from sklearn.cluster import KMeans, AgglomerativeClustering, AffinityPropagation # clustering\n",
    "from sklearn.mixture import GaussianMixture # for GMM clustering\n",
    "#Linear models\n",
    "from sklearn.linear_model import LogisticRegression, LogisticRegressionCV, LinearRegression\n",
    "from sklearn import metrics\n",
    "from sklearn import cross_validation\n",
    "from sklearn.cross_validation import cross_val_score"
   ]
  },
  {
   "cell_type": "code",
   "execution_count": 131,
   "metadata": {},
   "outputs": [],
   "source": [
    "# split our model\n",
    "from sklearn.model_selection import train_test_split\n",
    "# Split X and Y into Test and Train portions\n",
    "# simple Plitting\n",
    "X_train, X_test, Y_train, Y_test = train_test_split(X_data, Y_data, test_size=0.25, random_state=1)"
   ]
  },
  {
   "cell_type": "code",
   "execution_count": 132,
   "metadata": {},
   "outputs": [
    {
     "data": {
      "text/plain": [
       "LinearRegression(copy_X=True, fit_intercept=True, n_jobs=1, normalize=False)"
      ]
     },
     "execution_count": 132,
     "metadata": {},
     "output_type": "execute_result"
    }
   ],
   "source": [
    "# create model and Train it!\n",
    "model = LinearRegression()\n",
    "model.fit(X_train, Y_train)"
   ]
  },
  {
   "cell_type": "code",
   "execution_count": 133,
   "metadata": {},
   "outputs": [
    {
     "name": "stdout",
     "output_type": "stream",
     "text": [
      "The coefficient for Year is 11.663262842768017\n",
      "The intercept for our model is -22166.247849754734\n"
     ]
    }
   ],
   "source": [
    "# check out our model coefficients\n",
    "for idx, col_name in enumerate(X_train.columns):\n",
    "    print(\"The coefficient for {} is {}\".format(col_name, model.coef_[0][idx]))\n",
    "# check Model Intercepts\n",
    "intercept = model.intercept_[0]\n",
    "print(\"The intercept for our model is {}\".format(intercept))"
   ]
  },
  {
   "cell_type": "code",
   "execution_count": 134,
   "metadata": {},
   "outputs": [
    {
     "data": {
      "image/png": "[encoded data removed]",
      "text/plain": [
       "<Figure size 432x288 with 1 Axes>"
      ]
     },
     "metadata": {},
     "output_type": "display_data"
    }
   ],
   "source": [
    "# see some ploting relationships between our features\n",
    "plt.scatter(df.Year, df.Deaths)\n",
    "plt.xlabel(\"Year\")\n",
    "plt.ylabel(\"Deaths\")\n",
    "plt.title(\"Relationship between Diabetes Deaths & Year in Maryland\")\n",
    "plt.show()"
   ]
  },
  {
   "cell_type": "code",
   "execution_count": 135,
   "metadata": {},
   "outputs": [
    {
     "data": {
      "text/plain": [
       "0.7749927173454213"
      ]
     },
     "execution_count": 135,
     "metadata": {},
     "output_type": "execute_result"
    }
   ],
   "source": [
    "# check model score\n",
    "model.score(X_test, Y_test)"
   ]
  },
  {
   "cell_type": "markdown",
   "metadata": {},
   "source": [
    "So in our model 77.5 % of variability can be explained by X which is Year.\n",
    "What about our models mean square error and RMSE in Prediction?"
   ]
  },
  {
   "cell_type": "code",
   "execution_count": 146,
   "metadata": {},
   "outputs": [
    {
     "name": "stdout",
     "output_type": "stream",
     "text": [
      "Model Mean Sqaured Error(MSE) = 27107.275362371154\n",
      "Model Root Mean Sqaured Error(RMSE) = 164.64287218817324\n",
      "\n",
      "\n",
      "----------\\Actual Deaths for 1920, 1921, 1922, 1923, 1924\\---------------------------------\n",
      "Actual Death of frist 5 years = 0    252\n",
      "1    259\n",
      "2    303\n",
      "3    308\n",
      "4    310\n",
      "Name: Deaths, dtype: int64\n",
      "----------\\Predicted Deaths for 1920, 1921, 1922, 1923, 1924\\---------------------------------\n",
      "Predicted Death of frist 5 years = [[227.21680836]\n",
      " [238.8800712 ]\n",
      " [250.54333405]\n",
      " [262.20659689]\n",
      " [273.86985973]]\n"
     ]
    }
   ],
   "source": [
    "from sklearn.metrics import mean_squared_error\n",
    "y_predict = model.predict(X_test)\n",
    "model_mse = mean_squared_error(y_predict, Y_test)\n",
    "\n",
    "from math import sqrt\n",
    "model_rmse = sqrt(model_mse)\n",
    "print(\"Model Mean Sqaured Error(MSE) = {}\".format(model_mse))\n",
    "print(\"Model Root Mean Sqaured Error(RMSE) = {}\".format(model_rmse))\n",
    "print(\"\\n\")\n",
    "#df.head(5)\n",
    "# prediction of the first 5 years i.e 1920, 1921, 1922, 1923, 1924\n",
    "print(\"----------\\Actual Deaths for 1920, 1921, 1922, 1923, 1924\\---------------------------------\")\n",
    "print(\"Actual Death of frist 5 years = {}\".format(df.Deaths[:5]))\n",
    "print(\"----------\\Predicted Deaths for 1920, 1921, 1922, 1923, 1924\\---------------------------------\")\n",
    "print(\"Predicted Death of frist 5 years = {}\".format(model.predict(X_data)[:5]))"
   ]
  },
  {
   "cell_type": "markdown",
   "metadata": {},
   "source": [
    "Lets use our model to make some random predictions now and see how our predictions fair"
   ]
  },
  {
   "cell_type": "code",
   "execution_count": 137,
   "metadata": {},
   "outputs": [
    {
     "data": {
      "image/png": "[encoded data removed]",
      "text/plain": [
       "<Figure size 432x288 with 1 Axes>"
      ]
     },
     "metadata": {},
     "output_type": "display_data"
    }
   ],
   "source": [
    "# make some scatter plot of our deaths predictions vs Real Deaths\n",
    "plt.scatter(df.Deaths, model.predict(X_data))\n",
    "plt.xlabel(\"Deaths, $Y_{i}$\")\n",
    "plt.ylabel(\"Predicted Deaths $\\hat(Y)_i$\")\n",
    "plt.title(\"Real Deaths vs Predicted Death by Diabetes :$Y_i$ vs $\\hat(Y)_i$ \")\n",
    "plt.show()"
   ]
  },
  {
   "cell_type": "markdown",
   "metadata": {},
   "source": [
    "Some really slight correlation between our prediction deaths and actual deaths indicating that LinearRegression might not be the best to use for this model. Maybe polynomial regression model.\n",
    "Since our dataset is very small, we could rather do cross-validation test-train fit\n",
    "and see what we get."
   ]
  },
  {
   "cell_type": "code",
   "execution_count": 115,
   "metadata": {},
   "outputs": [],
   "source": [
    "# using cross validation Test-train split into 3\n",
    "X_train, X_test, Y_train, Y_test = cross_validation.train_test_split(X_data, Y_data, test_size=0.33, random_state=5)\n",
    "lin_reg = LinearRegression()\n",
    "lin_reg.fit(X_train, Y_train)\n",
    "\n",
    "predict_train = lin_reg.predict(X_train)\n",
    "predict_test = lin_reg.predict(X_test)"
   ]
  },
  {
   "cell_type": "code",
   "execution_count": 121,
   "metadata": {},
   "outputs": [
    {
     "data": {
      "image/png": "[encoded data removed]",
      "text/plain": [
       "<Figure size 432x288 with 1 Axes>"
      ]
     },
     "metadata": {},
     "output_type": "display_data"
    }
   ],
   "source": [
    "# Now we calculate the MSE and RMSE for Train and Test Data  and make a scatter plot\n",
    "plt.scatter(lin_reg.predict(X_train), lin_reg.predict(X_train) - Y_train, c='b', s=40, alpha=0.5)\n",
    "plt.scatter(lin_reg.predict(X_test), lin_reg.predict(X_test) - Y_test, c='g', s=40)\n",
    "plt.hlines(y = 0, xmin = 0, xmax = 1400)\n",
    "plt.title(\"Residual plot using training(Blue) and test (Green) data\")\n",
    "plt.ylabel(\"Residuals, $\\hat(Y)_i - $Y_i$\")\n",
    "plt.show()"
   ]
  },
  {
   "cell_type": "code",
   "execution_count": 154,
   "metadata": {},
   "outputs": [
    {
     "data": {
      "text/plain": [
       "array([[1358.55330411],\n",
       "       [1370.21656695],\n",
       "       [1381.87982979],\n",
       "       [1393.54309264],\n",
       "       [1405.20635548],\n",
       "       [1416.86961832],\n",
       "       [1428.53288116],\n",
       "       [1440.19614401],\n",
       "       [1451.85940685]])"
      ]
     },
     "execution_count": 154,
     "metadata": {},
     "output_type": "execute_result"
    }
   ],
   "source": [
    "# Try some prediction for future years\n",
    "model.predict(np.array([2017, 2018, 2019, 2020, 2021, 2022, 2023, 2024, 2025]).reshape(-1,1))"
   ]
  },
  {
   "cell_type": "markdown",
   "metadata": {},
   "source": [
    "Clearly there is huge variation between the predicts and a better learning model will be to use\n",
    "Neural networks where one can clearly control predictability using Hyperparameters.\n",
    "Next part will be to implement a simple Neural network(Deep Learning) to predict the\n",
    "deaths for each year."
   ]
  },
  {
   "cell_type": "markdown",
   "metadata": {},
   "source": [
    "Paorject 2: using HealthCareAI library class to compare Models and use different sources of Datasets e.g MySQL data bases"
   ]
  },
  {
   "cell_type": "markdown",
   "metadata": {},
   "source": [
    "#import healthcareai.trained_models.trained_supervised_model as tsm_plots\n",
    "#import healthcareai.common.database_connections as hcai_db\n",
    "#dataframe = healthcareai.load_csv(\"../datasets/Number_of_Diabetes_Deaths_among_Maryland_Residents__1920-2016.csv\")\n",
    "#dataframe.head(5)\n",
    "#dataframe.dtypes\n",
    "#dataframe.shape\n",
    "\n",
    "'''\n",
    "def main():\n",
    "    # Load the included diabetes sample data\n",
    "    dataframe = healthcareai.load_diabetes()\n",
    "\n",
    "    # ...or load your own data from a .csv file: Uncomment to pull data from your CSV\n",
    "    # dataframe = healthcareai.load_csv('path/to/your.csv')\n",
    "\n",
    "    # ...or load data from a MSSQL server: Uncomment to pull data from MSSQL server\n",
    "    # server = 'localhost'\n",
    "    # database = 'SAM'\n",
    "    # query = \"\"\"SELECT *\n",
    "    #             FROM [SAM].[dbo].[DiabetesClincialSampleData]\n",
    "    #             -- In this step, just grab rows that have a target\n",
    "    #             WHERE ThirtyDayReadmitFLG is not null\"\"\"\n",
    "    #\n",
    "    # engine = hcai_db.build_build_mssql_engine_using_trusted_connectionsmssql_engine(server=server, database=database)\n",
    "    # dataframe = pd.read_sql(query, engine)\n",
    "\n",
    "    # Peek at the first 5 rows of data\n",
    "    print(dataframe.head(5))\n",
    "\n",
    "    # Drop columns that won't help machine learning\n",
    "    dataframe.drop(['PatientID'], axis=1, inplace=True)\n",
    "\n",
    "    # Step 1: Setup a healthcareai classification trainer. This prepares your data for model building\n",
    "    classification_trainer = healthcareai.SupervisedModelTrainer(\n",
    "        dataframe=dataframe,\n",
    "        predicted_column='ThirtyDayReadmitFLG',\n",
    "        model_type='classification',\n",
    "        grain_column='PatientEncounterID',\n",
    "        impute=True,\n",
    "        verbose=False)\n",
    "\n",
    "    # Look at the first few rows of your dataframe after loading the data\n",
    "    print('\\n\\n-------------------[ Cleaned Dataframe ]--------------------------')\n",
    "    print(classification_trainer.clean_dataframe.head())\n",
    "\n",
    "    # Step 2: train some models\n",
    "\n",
    "    # Train a KNN model\n",
    "    trained_knn = classification_trainer.knn()\n",
    "\n",
    "    # View the ROC and PR plots\n",
    "    trained_knn.roc_plot()\n",
    "    trained_knn.pr_plot()\n",
    "\n",
    "    # Uncomment if you want to see all the ROC and/or PR thresholds\n",
    "    # trained_knn.roc()\n",
    "    # trained_knn.pr()\n",
    "\n",
    "    # Train a logistic regression model\n",
    "    trained_lr = classification_trainer.logistic_regression()\n",
    "\n",
    "    # View the ROC and PR plots\n",
    "    trained_lr.roc_plot()\n",
    "    trained_lr.pr_plot()\n",
    "\n",
    "    # Uncomment if you want to see all the ROC and/or PR thresholds\n",
    "    # trained_lr.roc()\n",
    "    # trained_lr.pr()\n",
    "\n",
    "    # Train a random forest model and view the feature importance plot\n",
    "    trained_random_forest = classification_trainer.random_forest(save_plot=False)\n",
    "    # View the ROC and PR plots\n",
    "    trained_random_forest.roc_plot()\n",
    "    trained_random_forest.pr_plot()\n",
    "\n",
    "    # Uncomment if you want to see all the ROC and/or PR thresholds\n",
    "    # trained_random_forest.roc()\n",
    "    # trained_random_forest.pr()\n",
    "\n",
    "    # Create a list of all the models you just trained that you want to compare\n",
    "    models_to_compare = [trained_knn, trained_lr, trained_random_forest]\n",
    "\n",
    "    # Create a ROC plot that compares them.\n",
    "    tsm_plots.tsm_classification_comparison_plots(\n",
    "        trained_supervised_models=models_to_compare,\n",
    "        plot_type='ROC',\n",
    "        save=False)\n",
    "\n",
    "    # Create a PR plot that compares them.\n",
    "    tsm_plots.tsm_classification_comparison_plots(\n",
    "        trained_supervised_models=models_to_compare,\n",
    "        plot_type='PR',\n",
    "        save=False)\n",
    "\n",
    "    # Once you are happy with the performance of any model, you can save it for use later in predicting new data.\n",
    "    # File names are timestamped and look like '2017-05-31T12-36-21_classification_RandomForestClassifier.pkl')\n",
    "    # Note the file you saved and that will be used in example_classification_2.py\n",
    "    trained_random_forest.save()\n",
    "'''"
   ]
  },
  {
   "cell_type": "code",
   "execution_count": 122,
   "metadata": {},
   "outputs": [],
   "source": [
    "if __name__ == \"__main__\":\n",
    "    main()"
   ]
  }
 ],
 "metadata": {
  "kernelspec": {
   "display_name": "Python 3",
   "language": "python",
   "name": "python3"
  },
  "language_info": {
   "codemirror_mode": {
    "name": "ipython",
    "version": 3
   },
   "file_extension": ".py",
   "mimetype": "text/x-python",
   "name": "python",
   "nbconvert_exporter": "python",
   "pygments_lexer": "ipython3",
   "version": "3.6.5"
  },
  "toc": {
   "base_numbering": 1,
   "nav_menu": {},
   "number_sections": true,
   "sideBar": true,
   "skip_h1_title": false,
   "title_cell": "Table of Contents",
   "title_sidebar": "Contents",
   "toc_cell": false,
   "toc_position": {},
   "toc_section_display": true,
   "toc_window_display": false
  }
 },
 "nbformat": 4,
 "nbformat_minor": 2
}
